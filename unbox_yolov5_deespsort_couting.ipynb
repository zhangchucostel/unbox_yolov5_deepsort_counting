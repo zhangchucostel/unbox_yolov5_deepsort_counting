{
  "nbformat": 4,
  "nbformat_minor": 0,
  "metadata": {
    "colab": {
      "provenance": [],
      "authorship_tag": "ABX9TyPRXIIfuxTsEZ67BHLse8P2",
      "include_colab_link": true
    },
    "kernelspec": {
      "name": "python3",
      "display_name": "Python 3"
    },
    "language_info": {
      "name": "python"
    }
  },
  "cells": [
    {
      "cell_type": "markdown",
      "metadata": {
        "id": "view-in-github",
        "colab_type": "text"
      },
      "source": [
        "<a href=\"https://colab.research.google.com/github/zhangchucostel/unbox_yolov5_deepsort_counting/blob/main/unbox_yolov5_deespsort_couting.ipynb\" target=\"_parent\"><img src=\"https://colab.research.google.com/assets/colab-badge.svg\" alt=\"Open In Colab\"/></a>"
      ]
    },
    {
      "cell_type": "code",
      "execution_count": null,
      "metadata": {
        "id": "TpsHTV5bEgY3"
      },
      "outputs": [],
      "source": []
    },
    {
      "cell_type": "markdown",
      "source": [
        "# New Section"
      ],
      "metadata": {
        "id": "0b2e24y_FbLO"
      }
    },
    {
      "cell_type": "markdown",
      "source": [
        "\n",
        "\n",
        "\n"
      ],
      "metadata": {
        "id": "eHgOoljXEpv1"
      }
    },
    {
      "cell_type": "markdown",
      "source": [],
      "metadata": {
        "id": "T9ae4ojAJhnJ"
      }
    },
    {
      "cell_type": "markdown",
      "source": [
        "git clone https://github.com/dyh/unbox_yolov5_deepsort_counting.git"
      ],
      "metadata": {
        "id": "Je90CO0fJhqE"
      }
    },
    {
      "cell_type": "markdown",
      "source": [
        "# New Section"
      ],
      "metadata": {
        "id": "JJsm2ez-ieec"
      }
    },
    {
      "cell_type": "markdown",
      "source": [],
      "metadata": {
        "id": "aakVETKhKovS"
      }
    },
    {
      "cell_type": "code",
      "source": [],
      "metadata": {
        "id": "O9xGIXzKKqUm"
      },
      "execution_count": null,
      "outputs": []
    },
    {
      "cell_type": "code",
      "source": [],
      "metadata": {
        "id": "FnT8opD-iRIM"
      },
      "execution_count": null,
      "outputs": []
    },
    {
      "cell_type": "markdown",
      "source": [
        "https://github.com/dyh/unbox_yolov5_deepsort_counting.git"
      ],
      "metadata": {
        "id": "eZK1mloLKrD3"
      }
    }
  ]
}